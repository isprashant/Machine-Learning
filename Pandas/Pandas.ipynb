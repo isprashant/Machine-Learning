{
 "cells": [
  {
   "cell_type": "markdown",
   "metadata": {},
   "source": [
    "# pandas\n",
    "pandas is an open source, BSD-licensed library providing high-performance, easy-to-use data structures and data analysis tools for the Python.\n",
    "+ Python has long been great for data munging and preparation, but less so for data analysis and modeling. pandas helps fill this gap, enabling you to carry out your entire data analysis workflow in Python without having to switch to a more domain specific language like R.\n",
    "\n",
    "+ pandas does not implement significant modeling functionality outside of linear and panel regression.\n",
    "\n",
    "### Library Highlights\n",
    "+ A fast and efficient <b>DataFrame</b> object for data manipulation with integrated indexing;\n",
    "+ Tools for <b>reading and writing data</b> between in-memory data structures and different formats: CSV and text files, Microsoft Excel, SQL databases, and the fast HDF5 format;\n",
    "+ Intelligent <b>data alignment</b> and integrated handling of <b>missing data</b>.\n",
    "+ Flexible <b>reshaping</b> and pivoting of data sets.\n",
    "+ Aggregating or transforming data with a powerful <b>group</b> by engine allowing split-apply-combine operations on data sets.\n",
    "\n",
    "### Data structures\n",
    "<table><tr><th>Dimensions</th><th>Name</th><th>Description</th></tr>\n",
    "    <tr><td>1</td><td>Series</td><td>1D labeled homogeneously-typed array</td></tr>\n",
    "     <tr><td>2</td><td>DataFrame</td><td>General 2D labeled, size-mutable tabular structure with potentially heterogeneously-typed column</td></tr></table>\n",
    "    \n",
    "#### Why more than one data structure?\n",
    "The best way to think about the pandas data structures is as flexible containers for lower dimensional data. For example, DataFrame is a container for Series, and Series is a container for scalars. We would like to be able to insert and remove objects from these containers in a dictionary-like fashion."
   ]
  },
  {
   "cell_type": "markdown",
   "metadata": {},
   "source": [
    "# Object creation"
   ]
  },
  {
   "cell_type": "code",
   "execution_count": 3,
   "metadata": {},
   "outputs": [],
   "source": [
    "import numpy as np\n",
    "import pandas as pd\n",
    "# Creating a Series by passing a list of values, letting pandas create a default integer index:\n",
    "s = pd.Series([1, 3, 5, np.nan, 6, 8])"
   ]
  },
  {
   "cell_type": "code",
   "execution_count": 6,
   "metadata": {},
   "outputs": [],
   "source": [
    "# Creating a DataFrame by passing a NumPy array, with a datetime index and labeled columns:\n",
    "dates = pd.date_range('20130101', periods=6)\n",
    "\n",
    "df = pd.DataFrame(np.random.randn(6, 4), index=dates, columns=list('ABCD'))"
   ]
  },
  {
   "cell_type": "code",
   "execution_count": 9,
   "metadata": {},
   "outputs": [],
   "source": [
    "# Creating a DataFrame by passing a dict of objects that can be converted to series-like.\n",
    "df2 = pd.DataFrame({'A': 1.,\n",
    "                    'B': pd.Timestamp('20130102'),\n",
    "                    'C': pd.Series(1, index=list(range(4)), dtype='float32'),\n",
    "                    'D': np.array([3] * 4, dtype='int32'),\n",
    "                    'E': pd.Categorical([\"test\", \"train\", \"test\", \"train\"]),\n",
    "                    'F': 'foo'})"
   ]
  },
  {
   "cell_type": "code",
   "execution_count": null,
   "metadata": {},
   "outputs": [],
   "source": [
    "# The columns of the resulting DataFrame have different dtypes.\n",
    "# df2.dtypes, df2.shape, df2.head(), df2.tail(), df2.index, df2.columns, "
   ]
  },
  {
   "cell_type": "markdown",
   "metadata": {},
   "source": [
    "+ DataFrame.to_numpy() gives a NumPy representation of the underlying data. Note that this can be an expensive operation when your DataFrame has columns with different data types, which comes down to a fundamental difference between pandas and NumPy: <b>NumPy arrays have one dtype for the entire array, while pandas DataFrames have one dtype per column.</b> When you call DataFrame.to_numpy(), pandas will find the NumPy dtype that can hold all of the dtypes in the DataFrame. This may end up being object, which requires casting every value to a Python object."
   ]
  },
  {
   "cell_type": "code",
   "execution_count": 17,
   "metadata": {},
   "outputs": [],
   "source": [
    "# For df, our DataFrame of all floating-point values, DataFrame.to_numpy() is fast and doesn’t require copying data.\n",
    "#df.to_numpy()"
   ]
  },
  {
   "cell_type": "code",
   "execution_count": 18,
   "metadata": {},
   "outputs": [],
   "source": [
    "# For df2, the DataFrame with multiple dtypes, DataFrame.to_numpy() is relatively expensive.\n",
    "# df2.to_numpy()"
   ]
  },
  {
   "cell_type": "code",
   "execution_count": 19,
   "metadata": {},
   "outputs": [],
   "source": [
    "# describe() shows a quick statistic summary of your data:\n",
    "#df.describe\n",
    "# Transposing your data:\n",
    "#df.T"
   ]
  },
  {
   "cell_type": "code",
   "execution_count": 20,
   "metadata": {},
   "outputs": [],
   "source": [
    "# Sorting by an axis:\n",
    "# df.sort_index(axis=1, ascending=False)"
   ]
  },
  {
   "cell_type": "code",
   "execution_count": 21,
   "metadata": {},
   "outputs": [],
   "source": [
    "# Sorting by values:\n",
    "#df.sort_values(by='B')"
   ]
  },
  {
   "cell_type": "markdown",
   "metadata": {},
   "source": [
    "# Viewing data"
   ]
  },
  {
   "cell_type": "code",
   "execution_count": 1,
   "metadata": {},
   "outputs": [],
   "source": [
    "# df.head()\n",
    "# df.tail()"
   ]
  },
  {
   "cell_type": "markdown",
   "metadata": {},
   "source": [
    "# Selection\n",
    "\n",
    "## Getting\n",
    "#### Selecting a single column, which yields a Series, equivalent to df.A:\n",
    "\n",
    "```python\n",
    ">>> df['A']                         # selection\n",
    "```\n",
    "\n",
    "<b> Selecting via [], which slices the rows.</b>\n",
    "```python\n",
    ">>> df[0:3]\n",
    "```\n",
    "\n",
    "<b>For getting a cross section using a label:</b>\n",
    "```python\n",
    ">>> df.loc[dates[0]]\n",
    "```\n",
    "\n",
    "<b>Selecting on a multi-axis by label:</b>\n",
    "```python\n",
    ">>> df.loc[:, ['A', 'B']]\n",
    "```\n",
    "\n",
    "</b>Showing label slicing, both endpoints are included:</b>\n",
    "```python\n",
    ">>> df.loc['20130102':'20130104', ['A', 'B']]\n",
    "```\n",
    "\n",
    "## Selection by position\n",
    "\n",
    "<b>Select via the position of the passed integers:</b>\n",
    "```python\n",
    ">>> df.iloc[3]\n",
    "```\n",
    "\n",
    "<b>By integer slices, acting similar to numpy/python:</b>\n",
    "```python\n",
    ">>> df.iloc[3:5, 0:2]\n",
    "```\n",
    "\n",
    "<b>By lists of integer position locations, similar to the numpy/python style:</b>\n",
    "```python\n",
    ">>> df.iloc[[1, 2, 4], [0, 2]]\n",
    "```\n",
    "\n",
    "<b>For slicing rows explicitly:</b>\n",
    "```python\n",
    ">>> df.iloc[1:3, :]\n",
    "```\n",
    "\n",
    "<b>For slicing columns explicitly:</b>\n",
    "```python\n",
    ">>> df.iloc[:, 1:3]\n",
    "```\n",
    "\n",
    "<b>For getting fast access to a scalar (equivalent to the prior method):</b>\n",
    "```python\n",
    ">>> df.iat[1, 1]\n",
    "```\n",
    "\n",
    "## Boolean indexing\n",
    "\n",
    "<b>Using a single column’s values to select data.</b>\n",
    "```python\n",
    ">>> df[df.A > 0]\n",
    "```\n",
    "\n",
    "<b>Selecting values from a DataFrame where a boolean condition is met.</b>\n",
    "```python\n",
    ">>> df[df > 0]\n",
    "```\n",
    "\n",
    "<b>Using the isin() method for filtering:</b>\n",
    "```python\n",
    ">>> df2 = df.copy()\n",
    "\n",
    ">>> df2['E'] = ['one', 'one', 'two', 'three', 'four', 'three']\n",
    "\n",
    ">>> df2[df2['E'].isin(['two', 'four'])]\n",
    "```\n",
    "\n",
    "## Setting\n",
    "\n",
    "<b>Setting a new column automatically aligns the data by the indexes.</b>\n",
    "```python\n",
    ">>> s1 = pd.Series([1, 2, 3, 4, 5, 6], index=pd.date_range('20130102', periods=6))\n",
    ">>> s1\n",
    "    2013-01-02    1\n",
    "    2013-01-03    2\n",
    "    2013-01-04    3\n",
    "    2013-01-05    4\n",
    "    2013-01-06    5\n",
    "    2013-01-07    6\n",
    "    Freq: D, dtype: int64\n",
    ">>> df['F'] = s1\n",
    "```\n",
    "\n",
    "<b>Setting values by label:</b>\n",
    "```python\n",
    ">>> df.at[dates[0], 'A'] = 0\n",
    "```\n",
    "\n",
    "<b>Setting values by position:</b>\n",
    "```python\n",
    ">>> df.iat[0, 1] = 0\n",
    "```\n",
    "\n",
    "<b>Setting by assigning with a NumPy array:</b>\n",
    "```python\n",
    ">>> df.loc[:, 'D'] = np.array([5] * len(df))\n",
    "```\n",
    "\n",
    "<b>The result of the prior setting operations.</b>\n",
    "```python\n",
    ">>> df\n",
    "                   A         B         C  D    F\n",
    "2013-01-01  0.000000  0.000000 -1.509059 -5  NaN\n",
    "2013-01-02 -1.212112 -0.173215 -0.119209 -5 -1.0\n",
    "2013-01-03 -0.861849 -2.104569 -0.494929 -5 -2.0\n",
    "2013-01-04 -0.721555 -0.706771 -1.039575 -5 -3.0\n",
    "2013-01-05 -0.424972 -0.567020 -0.276232 -5 -4.0\n",
    "2013-01-06 -0.673690 -0.113648 -1.478427 -5 -5.0\n",
    "```\n"
   ]
  },
  {
   "cell_type": "code",
   "execution_count": 4,
   "metadata": {},
   "outputs": [
    {
     "data": {
      "text/html": [
       "<div>\n",
       "<style scoped>\n",
       "    .dataframe tbody tr th:only-of-type {\n",
       "        vertical-align: middle;\n",
       "    }\n",
       "\n",
       "    .dataframe tbody tr th {\n",
       "        vertical-align: top;\n",
       "    }\n",
       "\n",
       "    .dataframe thead th {\n",
       "        text-align: right;\n",
       "    }\n",
       "</style>\n",
       "<table border=\"1\" class=\"dataframe\">\n",
       "  <thead>\n",
       "    <tr style=\"text-align: right;\">\n",
       "      <th></th>\n",
       "      <th>A</th>\n",
       "      <th>B</th>\n",
       "      <th>C</th>\n",
       "      <th>D</th>\n",
       "    </tr>\n",
       "  </thead>\n",
       "  <tbody>\n",
       "    <tr>\n",
       "      <th>2013-01-01</th>\n",
       "      <td>0.206656</td>\n",
       "      <td>0.006286</td>\n",
       "      <td>-1.674489</td>\n",
       "      <td>-1.117912</td>\n",
       "    </tr>\n",
       "    <tr>\n",
       "      <th>2013-01-02</th>\n",
       "      <td>1.048613</td>\n",
       "      <td>-0.508730</td>\n",
       "      <td>-0.581579</td>\n",
       "      <td>1.562867</td>\n",
       "    </tr>\n",
       "    <tr>\n",
       "      <th>2013-01-03</th>\n",
       "      <td>1.647931</td>\n",
       "      <td>1.329333</td>\n",
       "      <td>-0.137115</td>\n",
       "      <td>1.526373</td>\n",
       "    </tr>\n",
       "    <tr>\n",
       "      <th>2013-01-04</th>\n",
       "      <td>0.175140</td>\n",
       "      <td>-1.095541</td>\n",
       "      <td>0.336882</td>\n",
       "      <td>0.321555</td>\n",
       "    </tr>\n",
       "    <tr>\n",
       "      <th>2013-01-05</th>\n",
       "      <td>-0.544268</td>\n",
       "      <td>-0.063995</td>\n",
       "      <td>0.623904</td>\n",
       "      <td>-1.900260</td>\n",
       "    </tr>\n",
       "    <tr>\n",
       "      <th>2013-01-06</th>\n",
       "      <td>0.539089</td>\n",
       "      <td>1.431677</td>\n",
       "      <td>-1.229075</td>\n",
       "      <td>-0.978669</td>\n",
       "    </tr>\n",
       "  </tbody>\n",
       "</table>\n",
       "</div>"
      ],
      "text/plain": [
       "                   A         B         C         D\n",
       "2013-01-01  0.206656  0.006286 -1.674489 -1.117912\n",
       "2013-01-02  1.048613 -0.508730 -0.581579  1.562867\n",
       "2013-01-03  1.647931  1.329333 -0.137115  1.526373\n",
       "2013-01-04  0.175140 -1.095541  0.336882  0.321555\n",
       "2013-01-05 -0.544268 -0.063995  0.623904 -1.900260\n",
       "2013-01-06  0.539089  1.431677 -1.229075 -0.978669"
      ]
     },
     "execution_count": 4,
     "metadata": {},
     "output_type": "execute_result"
    }
   ],
   "source": [
    "# execute above examples here:\n",
    "# since i am using random values result values can be different. Try to understand operations rather then matching values\n",
    "dates = pd.date_range('20130101', periods=6)\n",
    "df = pd.DataFrame(np.random.randn(6, 4), index=dates, columns=list('ABCD'))\n",
    "df"
   ]
  },
  {
   "cell_type": "code",
   "execution_count": null,
   "metadata": {},
   "outputs": [],
   "source": [
    "# Missing Value Treatment\n"
   ]
  }
 ],
 "metadata": {
  "kernelspec": {
   "display_name": "Python 3",
   "language": "python",
   "name": "python3"
  },
  "language_info": {
   "codemirror_mode": {
    "name": "ipython",
    "version": 3
   },
   "file_extension": ".py",
   "mimetype": "text/x-python",
   "name": "python",
   "nbconvert_exporter": "python",
   "pygments_lexer": "ipython3",
   "version": "3.7.4"
  }
 },
 "nbformat": 4,
 "nbformat_minor": 2
}
