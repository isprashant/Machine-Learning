{
 "cells": [
  {
   "cell_type": "markdown",
   "metadata": {},
   "source": [
    "# NumPy\n",
    "NumPy is the fundamental package for scientific computing with Python. It contains among other things:\n",
    "\n",
    "* a powerful N-dimensional array object\n",
    "\n",
    "* sophisticated (broadcasting) functions\n",
    "\n",
    "* tools for integrating C/C++ and Fortran code\n",
    "\n",
    "* useful linear algebra, Fourier transform, and random number capabilities\n",
    "\n",
    "Besides its obvious scientific uses, NumPy can also be used as an efficient multi-dimensional container of generic data. \n",
    "Arbitrary data-types can be defined. This allows NumPy to seamlessly and speedily integrate with a wide variety of databases.\n",
    "## The Basics\n",
    "NumPy’s main object is the homogeneous multidimensional array. It is a table of elements (usually numbers), all of the same type, indexed by a tuple of non-negative integers. In NumPy dimensions are called axes.\n",
    "For example, the coordinates of a point in 3D space [1, 2, 1] has one axis. That axis has 3 elements in it, so we say it has a length of 3. In the example pictured below, the array has 2 axes. The first axis has a length of 2, the second axis has a length of 3.\n",
    "```python\n",
    "[[ 1., 0., 0.],\n",
    " [ 0., 1., 2.]]\n",
    "```\n",
    "The more important attributes of an ndarray object are:\n",
    "<b> ndim, shape, size, dtype, itemsize, data <b>"
   ]
  },
  {
   "cell_type": "code",
   "execution_count": 1,
   "metadata": {},
   "outputs": [
    {
     "name": "stdout",
     "output_type": "stream",
     "text": [
      "[[ 0  1  2  3  4]\n",
      " [ 5  6  7  8  9]\n",
      " [10 11 12 13 14]]\n"
     ]
    }
   ],
   "source": [
    "import numpy as np\n",
    "a = np.arange(15).reshape(3,5)      # To create sequences of numbers, NumPy provides a function analogous to range that returns\n",
    "                                    # arrays instead of lists.\n",
    "print(a)"
   ]
  },
  {
   "cell_type": "markdown",
   "metadata": {},
   "source": [
    "+ When arange is used with floating point arguments, it is generally not possible to predict the number of elements obtained, due to the finite floating point precision. For this reason, it is usually better to use the function linspace that receives as an argument the number of elements that we want, instead of the step:"
   ]
  },
  {
   "cell_type": "code",
   "execution_count": 48,
   "metadata": {},
   "outputs": [
    {
     "name": "stdout",
     "output_type": "stream",
     "text": [
      "[ 0.00000000e+00  6.34239197e-02  1.26592454e-01  1.89251244e-01\n",
      "  2.51147987e-01  3.12033446e-01  3.71662456e-01  4.29794912e-01\n",
      "  4.86196736e-01  5.40640817e-01  5.92907929e-01  6.42787610e-01\n",
      "  6.90079011e-01  7.34591709e-01  7.76146464e-01  8.14575952e-01\n",
      "  8.49725430e-01  8.81453363e-01  9.09631995e-01  9.34147860e-01\n",
      "  9.54902241e-01  9.71811568e-01  9.84807753e-01  9.93838464e-01\n",
      "  9.98867339e-01  9.99874128e-01  9.96854776e-01  9.89821442e-01\n",
      "  9.78802446e-01  9.63842159e-01  9.45000819e-01  9.22354294e-01\n",
      "  8.95993774e-01  8.66025404e-01  8.32569855e-01  7.95761841e-01\n",
      "  7.55749574e-01  7.12694171e-01  6.66769001e-01  6.18158986e-01\n",
      "  5.67059864e-01  5.13677392e-01  4.58226522e-01  4.00930535e-01\n",
      "  3.42020143e-01  2.81732557e-01  2.20310533e-01  1.58001396e-01\n",
      "  9.50560433e-02  3.17279335e-02 -3.17279335e-02 -9.50560433e-02\n",
      " -1.58001396e-01 -2.20310533e-01 -2.81732557e-01 -3.42020143e-01\n",
      " -4.00930535e-01 -4.58226522e-01 -5.13677392e-01 -5.67059864e-01\n",
      " -6.18158986e-01 -6.66769001e-01 -7.12694171e-01 -7.55749574e-01\n",
      " -7.95761841e-01 -8.32569855e-01 -8.66025404e-01 -8.95993774e-01\n",
      " -9.22354294e-01 -9.45000819e-01 -9.63842159e-01 -9.78802446e-01\n",
      " -9.89821442e-01 -9.96854776e-01 -9.99874128e-01 -9.98867339e-01\n",
      " -9.93838464e-01 -9.84807753e-01 -9.71811568e-01 -9.54902241e-01\n",
      " -9.34147860e-01 -9.09631995e-01 -8.81453363e-01 -8.49725430e-01\n",
      " -8.14575952e-01 -7.76146464e-01 -7.34591709e-01 -6.90079011e-01\n",
      " -6.42787610e-01 -5.92907929e-01 -5.40640817e-01 -4.86196736e-01\n",
      " -4.29794912e-01 -3.71662456e-01 -3.12033446e-01 -2.51147987e-01\n",
      " -1.89251244e-01 -1.26592454e-01 -6.34239197e-02 -2.44929360e-16]\n"
     ]
    }
   ],
   "source": [
    "from numpy import pi\n",
    "np.linspace( 0, 2, 9 )                 # 9 numbers from 0 to 2\n",
    "x = np.linspace( 0, 2*pi, 100 )        # useful to evaluate function at lots of points\n",
    "f = np.sin(x)\n",
    "print(f)"
   ]
  },
  {
   "cell_type": "code",
   "execution_count": 9,
   "metadata": {},
   "outputs": [
    {
     "data": {
      "text/plain": [
       "2"
      ]
     },
     "execution_count": 9,
     "metadata": {},
     "output_type": "execute_result"
    }
   ],
   "source": [
    "a.ndim"
   ]
  },
  {
   "cell_type": "code",
   "execution_count": 10,
   "metadata": {},
   "outputs": [
    {
     "data": {
      "text/plain": [
       "(3, 5)"
      ]
     },
     "execution_count": 10,
     "metadata": {},
     "output_type": "execute_result"
    }
   ],
   "source": [
    "a.shape"
   ]
  },
  {
   "cell_type": "code",
   "execution_count": 11,
   "metadata": {},
   "outputs": [
    {
     "data": {
      "text/plain": [
       "15"
      ]
     },
     "execution_count": 11,
     "metadata": {},
     "output_type": "execute_result"
    }
   ],
   "source": [
    "a.size"
   ]
  },
  {
   "cell_type": "code",
   "execution_count": 15,
   "metadata": {},
   "outputs": [
    {
     "data": {
      "text/plain": [
       "dtype('int32')"
      ]
     },
     "execution_count": 15,
     "metadata": {},
     "output_type": "execute_result"
    }
   ],
   "source": [
    "a.dtype"
   ]
  },
  {
   "cell_type": "code",
   "execution_count": 16,
   "metadata": {},
   "outputs": [
    {
     "data": {
      "text/plain": [
       "4"
      ]
     },
     "execution_count": 16,
     "metadata": {},
     "output_type": "execute_result"
    }
   ],
   "source": [
    "a.itemsize"
   ]
  },
  {
   "cell_type": "code",
   "execution_count": 21,
   "metadata": {},
   "outputs": [
    {
     "data": {
      "text/plain": [
       "<memory at 0x000001A9D3840990>"
      ]
     },
     "execution_count": 21,
     "metadata": {},
     "output_type": "execute_result"
    }
   ],
   "source": [
    "a.data"
   ]
  },
  {
   "cell_type": "markdown",
   "metadata": {},
   "source": [
    "## Array Creation"
   ]
  },
  {
   "cell_type": "code",
   "execution_count": 37,
   "metadata": {},
   "outputs": [
    {
     "name": "stdout",
     "output_type": "stream",
     "text": [
      "[[2. 3. 4.]\n",
      " [1. 2. 3.]]\n",
      "<class 'numpy.ndarray'>\n"
     ]
    }
   ],
   "source": [
    "n = np.array([[2,3,4],[1,2,3]])\n",
    "print(n)\n",
    "print(type(n))\n",
    "\n",
    "#The dtype of the array"
   ]
  },
  {
   "cell_type": "code",
   "execution_count": 25,
   "metadata": {},
   "outputs": [
    {
     "data": {
      "text/plain": [
       "(2, 3)"
      ]
     },
     "execution_count": 25,
     "metadata": {},
     "output_type": "execute_result"
    }
   ],
   "source": [
    "n.shape"
   ]
  },
  {
   "cell_type": "code",
   "execution_count": 31,
   "metadata": {},
   "outputs": [
    {
     "data": {
      "text/plain": [
       "dtype('int32')"
      ]
     },
     "execution_count": 31,
     "metadata": {},
     "output_type": "execute_result"
    }
   ],
   "source": [
    "n.dtype"
   ]
  },
  {
   "cell_type": "markdown",
   "metadata": {},
   "source": [
    "+ Often, the elements of an array are originally unknown, but its size is known. Hence, <b> NumPy offers several functions to create arrays with initial placeholder content.</b> These minimize the necessity of growing arrays, an expensive operation.\n",
    "\n",
    "+ The function zeros creates an array full of zeros, the function ones creates an array full of ones, and the function empty creates an array whose initial content is random and depends on the state of the memory. By default,<b> the dtype of the created array is float64.</b>"
   ]
  },
  {
   "cell_type": "code",
   "execution_count": 39,
   "metadata": {},
   "outputs": [
    {
     "data": {
      "text/plain": [
       "array([[0, 0, 0, 0],\n",
       "       [0, 0, 0, 0],\n",
       "       [0, 0, 0, 0]])"
      ]
     },
     "execution_count": 39,
     "metadata": {},
     "output_type": "execute_result"
    }
   ],
   "source": [
    "np.zeros((3,4))"
   ]
  },
  {
   "cell_type": "code",
   "execution_count": 41,
   "metadata": {},
   "outputs": [
    {
     "data": {
      "text/plain": [
       "array([[[1., 1., 1.],\n",
       "        [1., 1., 1.]],\n",
       "\n",
       "       [[1., 1., 1.],\n",
       "        [1., 1., 1.]],\n",
       "\n",
       "       [[1., 1., 1.],\n",
       "        [1., 1., 1.]]])"
      ]
     },
     "execution_count": 41,
     "metadata": {},
     "output_type": "execute_result"
    }
   ],
   "source": [
    "np.ones((3,2,3))                        # a 3D array"
   ]
  },
  {
   "cell_type": "code",
   "execution_count": 43,
   "metadata": {},
   "outputs": [
    {
     "data": {
      "text/plain": [
       "array([[1., 1., 1.],\n",
       "       [1., 1., 1.]])"
      ]
     },
     "execution_count": 43,
     "metadata": {},
     "output_type": "execute_result"
    }
   ],
   "source": [
    "np.empty( (2,3) )                                 # uninitialized, output may vary"
   ]
  },
  {
   "cell_type": "markdown",
   "metadata": {},
   "source": [
    "## Basic Operations\n",
    "Arithmetic operators on arrays apply elementwise. A new array is created and filled with the result."
   ]
  },
  {
   "cell_type": "code",
   "execution_count": 49,
   "metadata": {},
   "outputs": [],
   "source": [
    " a = np.array( [20,30,40,50] )\n",
    "b = np.arange( 4 )\n",
    "\n",
    "# c = a-b\n",
    "\n",
    "# b**2\n",
    "\n",
    "# 10*np.sin(a)\n",
    "\n",
    "# a<35\n"
   ]
  },
  {
   "cell_type": "markdown",
   "metadata": {},
   "source": [
    "+ Unlike in many matrix languages, the product operator * operates elementwise in NumPy arrays. The matrix product can be performed using the @ operator (in python >=3.5) or the dot function or method:"
   ]
  },
  {
   "cell_type": "code",
   "execution_count": 55,
   "metadata": {},
   "outputs": [],
   "source": [
    "A = np.array( [[1,1],\n",
    "               [0,1]] )\n",
    "B = np.array( [[2,0],\n",
    "               [3,4]] )\n",
    "# A * B                       # # elementwise product\n",
    "\n",
    "# A @ B                       # matrix product\n",
    "\n",
    "# A.dot(B)                    # another matrix product\n",
    "\n",
    "# Some operations, such as += and *=, act in place to modify an existing array rather than create a new one.\n",
    "\n",
    "a = np.ones((2,3), dtype=int)\n",
    "b = np.random.random((2,3))\n",
    "\n",
    "# a *= 3\n",
    "\n",
    "# b += a\n",
    "\n",
    "# a += b                  # b is not automatically converted to integer type"
   ]
  },
  {
   "cell_type": "code",
   "execution_count": 61,
   "metadata": {},
   "outputs": [
    {
     "data": {
      "text/plain": [
       "'Many unary operations, such as computing the sum of all the elements in the array, are implemented as methods\\nof the ndarray class.'"
      ]
     },
     "execution_count": 61,
     "metadata": {},
     "output_type": "execute_result"
    }
   ],
   "source": [
    "'''Many unary operations, such as computing the sum of all the elements in the array, are implemented as methods\n",
    "of the ndarray class.'''\n",
    "\n"
   ]
  },
  {
   "cell_type": "markdown",
   "metadata": {},
   "source": [
    "<b> By default, these operations apply to the array as though it were a list of numbers, regardless of its shape. However, by specifying the axis parameter you can apply an operation along the specified axis of an array:</b>"
   ]
  },
  {
   "cell_type": "code",
   "execution_count": null,
   "metadata": {},
   "outputs": [],
   "source": []
  },
  {
   "cell_type": "markdown",
   "metadata": {},
   "source": [
    "## Indexing, Slicing and Iterating\n",
    "One-dimensional arrays can be indexed, sliced and iterated over, much like lists and other Python sequences."
   ]
  },
  {
   "cell_type": "code",
   "execution_count": null,
   "metadata": {},
   "outputs": [],
   "source": []
  },
  {
   "cell_type": "markdown",
   "metadata": {},
   "source": [
    "+ Multidimensional arrays can have one index per axis. These indices are given in a tuple separated by commas:\n",
    "```python\n",
    "[0 0 0      [0 0 0      [0 0 0      [0 0 0\n",
    " 0 0 0]      0 0 0]      0 0 0]      0 0 0]             <- \n",
    "```"
   ]
  },
  {
   "cell_type": "code",
   "execution_count": 2,
   "metadata": {},
   "outputs": [
    {
     "name": "stdout",
     "output_type": "stream",
     "text": [
      "[[ 0  1  2  3  4]\n",
      " [ 5  6  7  8  9]\n",
      " [10 11 12 13 14]\n",
      " [15 16 17 18 19]]\n"
     ]
    }
   ],
   "source": [
    "a = np.arange(20).reshape(4,5)\n",
    "print(a)"
   ]
  },
  {
   "cell_type": "code",
   "execution_count": 3,
   "metadata": {},
   "outputs": [],
   "source": [
    "c = np.array( [[[  0,  1,  2],               # a 3D array (two stacked 2D arrays)\n",
    "                [ 10, 12, 13]],\n",
    "               [[100,101,102],\n",
    "                [110,112,113]]])"
   ]
  },
  {
   "cell_type": "code",
   "execution_count": 11,
   "metadata": {},
   "outputs": [
    {
     "data": {
      "text/plain": [
       "array([[10, 11, 12, 13, 14],\n",
       "       [15, 16, 17, 18, 19]])"
      ]
     },
     "execution_count": 11,
     "metadata": {},
     "output_type": "execute_result"
    }
   ],
   "source": [
    "a[2:][:]"
   ]
  },
  {
   "cell_type": "code",
   "execution_count": 88,
   "metadata": {},
   "outputs": [
    {
     "data": {
      "text/plain": [
       "array([[100, 101, 102],\n",
       "       [110, 112, 113]])"
      ]
     },
     "execution_count": 88,
     "metadata": {},
     "output_type": "execute_result"
    }
   ],
   "source": [
    "c[1,...]                     #  NumPy also allows you to write this using dots as b[i,...].\n",
    "\n",
    "                             # The dots (...) represent as many colons as needed to produce a complete indexing tuple."
   ]
  },
  {
   "cell_type": "code",
   "execution_count": 89,
   "metadata": {},
   "outputs": [],
   "source": [
    "# Iterating over multidimensional arrays is done with respect to the first axis:\n"
   ]
  },
  {
   "cell_type": "markdown",
   "metadata": {},
   "source": [
    "## Stacking together different arrays\n",
    "\n",
    "Several arrays can be stacked together along different axes:"
   ]
  },
  {
   "cell_type": "code",
   "execution_count": 94,
   "metadata": {},
   "outputs": [],
   "source": [
    "a = np.floor(10*np.random.random((2,2)))"
   ]
  },
  {
   "cell_type": "code",
   "execution_count": 95,
   "metadata": {},
   "outputs": [],
   "source": [
    "b = np.floor(10*np.random.random((2,2)))"
   ]
  },
  {
   "cell_type": "code",
   "execution_count": 96,
   "metadata": {},
   "outputs": [
    {
     "data": {
      "text/plain": [
       "array([[8., 0.],\n",
       "       [2., 0.],\n",
       "       [1., 8.],\n",
       "       [3., 6.]])"
      ]
     },
     "execution_count": 96,
     "metadata": {},
     "output_type": "execute_result"
    }
   ],
   "source": [
    "np.vstack((a,b))"
   ]
  },
  {
   "cell_type": "code",
   "execution_count": 27,
   "metadata": {},
   "outputs": [
    {
     "name": "stdout",
     "output_type": "stream",
     "text": [
      "[8. 0. 8. 3. 3.]\n",
      "[1. 2. 1. 4. 2.]\n"
     ]
    }
   ],
   "source": [
    "# column_stack\n",
    "a = np.floor(10*np.random.random((5)))\n",
    "b = np.floor(10*np.random.random((5)))\n",
    "print(a)\n",
    "print(b)"
   ]
  },
  {
   "cell_type": "code",
   "execution_count": null,
   "metadata": {},
   "outputs": [],
   "source": []
  },
  {
   "cell_type": "markdown",
   "metadata": {},
   "source": [
    "\n",
    "<b> numpy.hstack(tup) </b>\n",
    "\n",
    "Stack arrays in sequence horizontally (column wise).\n",
    "\n",
    "This is equivalent to concatenation along the second axis, except for 1-D arrays where it concatenates along the first axis. Rebuilds arrays divided by hsplit.\n",
    "\n",
    "This function makes most sense for arrays with up to 3 dimensions. For instance, for pixel-data with a height (first axis), width (second axis), and r/g/b channels (third axis). The functions concatenate, stack and block provide more general stacking and concatenation operations.\n",
    "\n",
    "<b>Parameters:</b>\t\n",
    "tup : sequence of ndarrays\n",
    "The arrays must have the same shape along all but the second axis, except 1-D arrays which can be any length.\n",
    "\n",
    "<b>Returns:</b>\t\n",
    "stacked : ndarray\n",
    "The array formed by stacking the given arrays.\n",
    "\n"
   ]
  },
  {
   "cell_type": "code",
   "execution_count": 90,
   "metadata": {},
   "outputs": [],
   "source": [
    "# a = np.array((1,2,3))\n",
    "# b = np.array((2,3,4))\n",
    "\n",
    "\n",
    "\n",
    "# a = np.array([[1],[2],[3]])\n",
    "# b = np.array([[2],[3],[4]])\n"
   ]
  },
  {
   "cell_type": "markdown",
   "metadata": {},
   "source": [
    "<b>vstack</b>"
   ]
  },
  {
   "cell_type": "code",
   "execution_count": 93,
   "metadata": {},
   "outputs": [
    {
     "data": {
      "text/plain": [
       "(6, 1)"
      ]
     },
     "execution_count": 93,
     "metadata": {},
     "output_type": "execute_result"
    }
   ],
   "source": [
    "a = np.array([[1], [2], [3]])\n",
    "b = np.array([[2], [3], [4]])"
   ]
  },
  {
   "cell_type": "code",
   "execution_count": 9,
   "metadata": {},
   "outputs": [],
   "source": [
    "a = np.floor(10*np.random.random((2,2)))\n",
    "b = np.floor(10*np.random.random((2,2)))"
   ]
  },
  {
   "cell_type": "code",
   "execution_count": 14,
   "metadata": {},
   "outputs": [
    {
     "data": {
      "text/plain": [
       "array([[3., 2.],\n",
       "       [2., 9.]])"
      ]
     },
     "execution_count": 14,
     "metadata": {},
     "output_type": "execute_result"
    }
   ],
   "source": [
    "a"
   ]
  },
  {
   "cell_type": "code",
   "execution_count": 15,
   "metadata": {},
   "outputs": [
    {
     "data": {
      "text/plain": [
       "array([[0., 4.],\n",
       "       [0., 7.]])"
      ]
     },
     "execution_count": 15,
     "metadata": {},
     "output_type": "execute_result"
    }
   ],
   "source": [
    "b"
   ]
  }
 ],
 "metadata": {
  "kernelspec": {
   "display_name": "Python 3",
   "language": "python",
   "name": "python3"
  },
  "language_info": {
   "codemirror_mode": {
    "name": "ipython",
    "version": 3
   },
   "file_extension": ".py",
   "mimetype": "text/x-python",
   "name": "python",
   "nbconvert_exporter": "python",
   "pygments_lexer": "ipython3",
   "version": "3.7.4"
  }
 },
 "nbformat": 4,
 "nbformat_minor": 2
}
